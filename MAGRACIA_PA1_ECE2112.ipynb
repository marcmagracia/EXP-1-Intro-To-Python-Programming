{
 "cells": [
  {
   "cell_type": "markdown",
   "id": "abfcd5d9-70ef-4f44-b857-b659ff61ae2d",
   "metadata": {},
   "source": [
    "  "
   ]
  },
  {
   "cell_type": "markdown",
   "id": "be8587cc-1f1d-492a-99f5-19fb5c320a77",
   "metadata": {},
   "source": [
    " "
   ]
  },
  {
   "cell_type": "markdown",
   "id": "118c9e69-3474-4167-99ad-c841e342b3a7",
   "metadata": {},
   "source": [
    "#### EXPERIMENT 1\n",
    "## INTRODUCTION TO PYTHON PROGRAMMING \n",
    "#### _Magracia, Marc Reggie Sean S._   |   _2ECE-C_  |  _August 28, 2024_\n",
    "Instructions: _Write a Python script/code in the Jupyter Notebook to do the given problems. You may submit your Jupyter notebook in the dedicated submission bin._"
   ]
  },
  {
   "cell_type": "markdown",
   "id": "222d78eb-7c27-4158-ac4f-8c094968c712",
   "metadata": {},
   "source": [
    " ------------------"
   ]
  },
  {
   "cell_type": "markdown",
   "id": "b6bdcea5-59d1-45e5-a565-07f1cd5aecfc",
   "metadata": {},
   "source": [
    "##### 1. ALPHABET SOUP PROBLEM: Create a function that takes a string and returns a string with its letters in alphabetical order."
   ]
  },
  {
   "cell_type": "code",
   "execution_count": 51,
   "id": "8df8b462-7a55-4613-9308-c65fda596518",
   "metadata": {},
   "outputs": [
    {
     "name": "stdout",
     "output_type": "stream",
     "text": [
      "afilorsttwy\n"
     ]
    }
   ],
   "source": [
    "#Assign values for string\n",
    "s = str(\"taylorswift\")\n",
    "\n",
    "#From string to list\n",
    "slist = list(s)\n",
    "\n",
    "#Sorting\n",
    "slist.sort()\n",
    "slist\n",
    "\n",
    "#From list to string\n",
    "alphabet_soup = ''.join(slist)\n",
    "print(alphabet_soup)"
   ]
  },
  {
   "cell_type": "markdown",
   "id": "afb9a333-6159-4c1a-b147-4c7ab81b6863",
   "metadata": {},
   "source": [
    "  ------------------"
   ]
  },
  {
   "cell_type": "markdown",
   "id": "dcbef4e3-eacc-451d-88e0-82590ca48ec6",
   "metadata": {},
   "source": [
    "##### 2. EMOTICON PROBLEM: Create a function that changes specific words into emoticons. Given a sentence as a string, replace the words smile [:)], grin [:D], sad [:((] and mad [>:(] with their corresponding emoticon."
   ]
  },
  {
   "cell_type": "code",
   "execution_count": 23,
   "id": "d52216bd-7a99-4dc5-8aa1-264a95430071",
   "metadata": {},
   "outputs": [
    {
     "name": "stdout",
     "output_type": "stream",
     "text": [
      "Make me :), :D, :(, and >:(!\n"
     ]
    }
   ],
   "source": [
    "#Write the sentence with key words\n",
    "emotify = \"Make me smile, grin, sad, and mad!\"\n",
    "\n",
    "#Assign replacement values and the values to be replaced\n",
    "emotify = emotify.replace(\"smile\", \":)\")\n",
    "emotify = emotify.replace(\"grin\", \":D\")\n",
    "emotify = emotify.replace(\"sad\", \":(\")\n",
    "emotify = emotify.replace(\"mad\", \">:(\")\n",
    "\n",
    "#Print updated sentence\n",
    "print(emotify)"
   ]
  },
  {
   "cell_type": "markdown",
   "id": "8bf36ac5-50db-468e-940a-1505b4b9e71e",
   "metadata": {},
   "source": [
    " ------------------"
   ]
  },
  {
   "cell_type": "markdown",
   "id": "ff35d2b7-fd79-4df8-87e9-8702b83b9b73",
   "metadata": {},
   "source": [
    "##### 3. UNPACKING LIST PROBLEM: Unpack the list writeyourcodehere into three variables, being first, middle, and last, with middle being everything in between the first and last element. Then print all three variables.    "
   ]
  },
  {
   "cell_type": "code",
   "execution_count": 21,
   "id": "e37c6048-32be-487c-8279-db7eacba1b46",
   "metadata": {},
   "outputs": [
    {
     "name": "stdout",
     "output_type": "stream",
     "text": [
      "first:  1\n",
      "middle:  [2, 3, 4, 5, 6, 7, 8]\n",
      "last:  10\n"
     ]
    }
   ],
   "source": [
    "#List\n",
    "writeyourcodehere = [1, 2, 3, 4, 5, 6, 7, 8, 9, 10]\n",
    "\n",
    "#Print first value\n",
    "print('first: ', writeyourcodehere[0])\n",
    "\n",
    "#Store last value\n",
    "lastA = writeyourcodehere[-1]\n",
    "\n",
    "#Remove the first and last values\n",
    "writeyourcodehere.remove(writeyourcodehere[0])\n",
    "writeyourcodehere.remove(writeyourcodehere[-1])\n",
    "\n",
    "#Print middle value\n",
    "print('middle: ', writeyourcodehere)\n",
    "\n",
    "#Print last value via stored value\n",
    "print('last: ', lastA)"
   ]
  }
 ],
 "metadata": {
  "kernelspec": {
   "display_name": "Python 3 (ipykernel)",
   "language": "python",
   "name": "python3"
  },
  "language_info": {
   "codemirror_mode": {
    "name": "ipython",
    "version": 3
   },
   "file_extension": ".py",
   "mimetype": "text/x-python",
   "name": "python",
   "nbconvert_exporter": "python",
   "pygments_lexer": "ipython3",
   "version": "3.12.4"
  }
 },
 "nbformat": 4,
 "nbformat_minor": 5
}
